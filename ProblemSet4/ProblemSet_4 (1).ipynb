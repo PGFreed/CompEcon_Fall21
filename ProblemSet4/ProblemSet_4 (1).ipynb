{
 "cells": [
  {
   "cell_type": "markdown",
   "id": "2ce386db",
   "metadata": {},
   "source": [
    "# Problem Set 4"
   ]
  },
  {
   "cell_type": "markdown",
   "id": "85c5c613",
   "metadata": {},
   "source": [
    "### Paul G. Freed"
   ]
  },
  {
   "cell_type": "code",
   "execution_count": null,
   "id": "7955b4bf",
   "metadata": {},
   "outputs": [],
   "source": []
  },
  {
   "cell_type": "code",
   "execution_count": 294,
   "id": "1c305ef9",
   "metadata": {},
   "outputs": [],
   "source": [
    "#A number of imports are needed for both MLE and OLS measurements\n",
    "import pandas as pd\n",
    "import numpy as np\n",
    "import scipy.optimize as opt\n",
    "from scipy.optimize import minimize #to do the minimizing\n",
    "import scipy.stats as stats\n",
    "import statsmodels.api as sm #for OLS regressions"
   ]
  },
  {
   "cell_type": "code",
   "execution_count": 233,
   "id": "71beadbf",
   "metadata": {},
   "outputs": [],
   "source": [
    "#Read in the data \n",
    "PS4 = pd.read_stata(r'\\Users\\MSB\\Desktop\\PS4_data.dta')\n"
   ]
  },
  {
   "cell_type": "code",
   "execution_count": null,
   "id": "02018574",
   "metadata": {},
   "outputs": [],
   "source": []
  },
  {
   "cell_type": "markdown",
   "id": "5b69f525",
   "metadata": {},
   "source": [
    "# Questions 1 & 2"
   ]
  },
  {
   "cell_type": "code",
   "execution_count": 284,
   "id": "98611a36",
   "metadata": {},
   "outputs": [],
   "source": [
    "#Question 1\n",
    "#Here I select only the male heads of household who are between 25 and 60 and earn wages greater than $7 an hour\n",
    "\n",
    "PS4 = PS4[(PS4[\"hsex\"] == 1) \n",
    "                              & (PS4[\"age\"] > 25) \n",
    "                              & (PS4[\"age\"] < 60)\n",
    "                              & (PS4[\"hlabinc\"] / PS4[\"hannhrs\"] > 7)]\n"
   ]
  },
  {
   "cell_type": "code",
   "execution_count": 287,
   "id": "25585c5c",
   "metadata": {},
   "outputs": [],
   "source": [
    "#Question 2\n",
    "#Here I create the nessecary variables in order to perform the MLE\n",
    "\n",
    "\n",
    "#Creating Age Variables \n",
    "PS4['agesq'] = (PS4['age']**2)\n",
    "\n",
    "#Creating Race Dummies\n",
    "PS4['black'] = (PS4['hrace'] == 1 ).astype(int)\n",
    "PS4['hispanic'] = (PS4['hrace'] == 5).astype(int) # There does not appear to be any hispanics in the data, but I make the variable anyway\n",
    "PS4['other'] = ((PS4['hrace']!=7)&(PS4['hrace']!=6)).astype(int)\n",
    "\n",
    "#Generating wage variables \n",
    "PS4['wages'] = PS4['hlabinc']/PS4['hannhrs']\n",
    "PS4['ln_wages'] = np.log(PS4['wages'])\n",
    "\n",
    "#Dropping missing values in wages and my vars, this seems to mess up the estimators\n",
    "PS4 = PS4[pd.notnull(PS4['ln_wages'])\n",
    "          &pd.notnull(PS4['hyrsed'])\n",
    "          &pd.notnull(PS4['agesq'])\n",
    "          &pd.notnull(PS4['hrace'])]\n",
    "\n",
    "\n",
    "#Keeping only the years I want \n",
    "PS4_1971 = PS4.loc[PS4['year'] == 1971]\n",
    "PS4_1980 = PS4.loc[PS4['year'] == 1980]\n",
    "PS4_1990 = PS4.loc[PS4['year'] == 1990]\n",
    "PS4_2000 = PS4.loc[PS4['year'] == 2000]\n"
   ]
  },
  {
   "cell_type": "markdown",
   "id": "f6ccd8ed",
   "metadata": {},
   "source": [
    "# Question 3"
   ]
  },
  {
   "cell_type": "code",
   "execution_count": 65,
   "id": "6e65da94",
   "metadata": {},
   "outputs": [],
   "source": [
    "#For each of the years, I employ a MLE estimation, and then I employ an OLS linear regression to check the validity of my estimates"
   ]
  },
  {
   "cell_type": "code",
   "execution_count": 18,
   "id": "4d08af0b",
   "metadata": {},
   "outputs": [],
   "source": [
    "#Depending on the type of optimizer, the accuracy varies "
   ]
  },
  {
   "cell_type": "code",
   "execution_count": 29,
   "id": "6409052c",
   "metadata": {},
   "outputs": [],
   "source": [
    "#1970s "
   ]
  },
  {
   "cell_type": "markdown",
   "id": "70e9a12c",
   "metadata": {},
   "source": [
    "In each case, I write out the fuction I am estimating under \"The Formula\", with \"Outcome\" as ln(wages). It is the same formula for each, and the same one as written on the homework sheet"
   ]
  },
  {
   "cell_type": "code",
   "execution_count": 288,
   "id": "121e17c0",
   "metadata": {},
   "outputs": [
    {
     "name": "stdout",
     "output_type": "stream",
     "text": [
      " final_simplex: (array([[ 0.35135435,  0.06685428,  0.06512957, -0.00062826,  0.13005585,\n",
      "        -0.00146773,  0.11286653,  0.40937977],\n",
      "       [ 0.35133139,  0.06686052,  0.0651261 , -0.00062819,  0.13004446,\n",
      "        -0.00146774,  0.11286795,  0.40936795],\n",
      "       [ 0.35135981,  0.06685011,  0.06513227, -0.00062827,  0.12999583,\n",
      "        -0.00146909,  0.11287437,  0.40938269],\n",
      "       [ 0.35134055,  0.06685762,  0.06512717, -0.00062822,  0.13005888,\n",
      "        -0.00146752,  0.11286598,  0.40938872],\n",
      "       [ 0.35135329,  0.06685585,  0.06512596, -0.00062821,  0.13010414,\n",
      "        -0.0014666 ,  0.1128607 ,  0.40938938],\n",
      "       [ 0.35134106,  0.06685781,  0.06512715, -0.00062822,  0.13006065,\n",
      "        -0.00146747,  0.11286552,  0.40938522],\n",
      "       [ 0.35138627,  0.06684951,  0.06512916, -0.00062828,  0.13014828,\n",
      "        -0.00146607,  0.1128558 ,  0.40938897],\n",
      "       [ 0.35136141,  0.06685313,  0.06512899, -0.00062826,  0.13008404,\n",
      "        -0.00146716,  0.11286317,  0.40938292],\n",
      "       [ 0.35134251,  0.06685675,  0.0651297 , -0.00062826,  0.13004449,\n",
      "        -0.00146797,  0.11286699,  0.40939443]]), array([669.84410273, 669.84410791, 669.84411246, 669.84411347,\n",
      "       669.84411523, 669.84411531, 669.84411712, 669.84411742,\n",
      "       669.84412711]))\n",
      "           fun: 669.8441027296486\n",
      "       message: 'Optimization terminated successfully.'\n",
      "          nfev: 671\n",
      "           nit: 434\n",
      "        status: 0\n",
      "       success: True\n",
      "             x: array([ 0.35135435,  0.06685428,  0.06512957, -0.00062826,  0.13005585,\n",
      "       -0.00146773,  0.11286653,  0.40937977])\n"
     ]
    }
   ],
   "source": [
    "def MLElinear(params):\n",
    "    Alpha = params[0]\n",
    "    Beta1 = params[1]\n",
    "    Beta2 = params[2]\n",
    "    Beta3 = params[3]\n",
    "    Beta4 = params[4]\n",
    "    Beta5 = params[5]\n",
    "    Beta6 = params[6]\n",
    "    SD = params[7]\n",
    "    \n",
    "    #The Formula \n",
    "    Outcome = Alpha + Beta1 * PS4_1971['hyrsed'] + Beta2 * PS4_1971['age'] + Beta3 * PS4_1971['agesq'] + Beta4 * PS4_1971['black']  + Beta5 * PS4_1971['hispanic'] + Beta6 * PS4_1971['other']\n",
    "    \n",
    "    #The Fuction\n",
    "    LL = -np.sum( stats.norm.logpdf(PS4_1971['ln_wages'], loc=Outcome, scale=SD))\n",
    "    \n",
    "    return(LL)\n",
    "\n",
    "#My guesses for the parameters \n",
    "guesses = [0.31, 0.06, 0.06, 0, 0.23, 0, 0.094, 1]\n",
    "\n",
    "#I employ both the SLSQP, LBFGSB, and the Nelder Mead method, but I find that the Nelder Mead method gives results much closer to the OLS estimates\n",
    "results70s = opt.minimize(MLElinear, guesses, method='Nelder-Mead')\n",
    "\n",
    "print(results70s)"
   ]
  },
  {
   "cell_type": "code",
   "execution_count": 237,
   "id": "92f08f82",
   "metadata": {},
   "outputs": [
    {
     "name": "stdout",
     "output_type": "stream",
     "text": [
      "Intercept    0.319711\n",
      "hyrsed       0.066975\n",
      "age          0.067488\n",
      "agesq       -0.000656\n",
      "black        0.225637\n",
      "hispanic     0.000000\n",
      "other        0.094074\n",
      "dtype: float64\n"
     ]
    }
   ],
   "source": [
    "#Quick OLS Sanity Check\n",
    "\n",
    "import pandas as pd\n",
    "import statsmodels.formula.api as sm\n",
    "result70sOLS = sm.ols(formula=\"ln_wages ~ hyrsed + age + agesq + black + hispanic + other\", data=PS4_1971).fit()\n",
    "print(result70sOLS.params)\n",
    "    "
   ]
  },
  {
   "cell_type": "code",
   "execution_count": 130,
   "id": "aa1942ed",
   "metadata": {},
   "outputs": [],
   "source": [
    "#"
   ]
  },
  {
   "cell_type": "code",
   "execution_count": 188,
   "id": "a1974fa7",
   "metadata": {},
   "outputs": [],
   "source": [
    "#1980s "
   ]
  },
  {
   "cell_type": "code",
   "execution_count": 289,
   "id": "63886061",
   "metadata": {},
   "outputs": [
    {
     "name": "stdout",
     "output_type": "stream",
     "text": [
      " final_simplex: (array([[ 7.69898136e-01,  6.70448179e-02,  3.63164119e-02,\n",
      "        -2.84645804e-04,  6.24557240e-02,  1.02331874e-02,\n",
      "         3.34162238e-01,  4.49985340e-01],\n",
      "       [ 7.69946016e-01,  6.70435828e-02,  3.63134570e-02,\n",
      "        -2.84609584e-04,  6.24698491e-02,  1.02336380e-02,\n",
      "         3.34170463e-01,  4.49984922e-01],\n",
      "       [ 7.69973489e-01,  6.70468196e-02,  3.63098656e-02,\n",
      "        -2.84565608e-04,  6.24712077e-02,  1.02341304e-02,\n",
      "         3.34177335e-01,  4.49985016e-01],\n",
      "       [ 7.69839982e-01,  6.70471289e-02,  3.63181218e-02,\n",
      "        -2.84661245e-04,  6.24641506e-02,  1.02324884e-02,\n",
      "         3.34139259e-01,  4.49985895e-01],\n",
      "       [ 7.69920105e-01,  6.70448484e-02,  3.63147795e-02,\n",
      "        -2.84623651e-04,  6.24562231e-02,  1.02334774e-02,\n",
      "         3.34168939e-01,  4.49983615e-01],\n",
      "       [ 7.69946110e-01,  6.70442312e-02,  3.63135175e-02,\n",
      "        -2.84611440e-04,  6.24559801e-02,  1.02338053e-02,\n",
      "         3.34177417e-01,  4.49981618e-01],\n",
      "       [ 7.69872200e-01,  6.70466050e-02,  3.63169768e-02,\n",
      "        -2.84654098e-04,  6.24597995e-02,  1.02329218e-02,\n",
      "         3.34151476e-01,  4.49984751e-01],\n",
      "       [ 7.69898696e-01,  6.70457030e-02,  3.63152495e-02,\n",
      "        -2.84627853e-04,  6.24617957e-02,  1.02331984e-02,\n",
      "         3.34159367e-01,  4.49985268e-01],\n",
      "       [ 7.69978178e-01,  6.70437207e-02,  3.63121914e-02,\n",
      "        -2.84599163e-04,  6.24449235e-02,  1.02342520e-02,\n",
      "         3.34193194e-01,  4.49986553e-01]]), array([1086.30835499, 1086.30836397, 1086.308374  , 1086.30837712,\n",
      "       1086.3083777 , 1086.3083883 , 1086.30839718, 1086.30840076,\n",
      "       1086.30840979]))\n",
      "           fun: 1086.3083549931994\n",
      "       message: 'Optimization terminated successfully.'\n",
      "          nfev: 1086\n",
      "           nit: 723\n",
      "        status: 0\n",
      "       success: True\n",
      "             x: array([ 7.69898136e-01,  6.70448179e-02,  3.63164119e-02, -2.84645804e-04,\n",
      "        6.24557240e-02,  1.02331874e-02,  3.34162238e-01,  4.49985340e-01])\n"
     ]
    }
   ],
   "source": [
    "def MLElinear(params):\n",
    "    Alpha = params[0]\n",
    "    Beta1 = params[1]\n",
    "    Beta2 = params[2]\n",
    "    Beta3 = params[3]\n",
    "    Beta4 = params[4]\n",
    "    Beta5 = params[5]\n",
    "    Beta6 = params[6]\n",
    "    SD = params[7]\n",
    "    \n",
    "    #The Formula \n",
    "    Outcome = Alpha + Beta1 * PS4_1980['hyrsed'] + Beta2 * PS4_1980['age'] + Beta3 * PS4_1980['agesq'] + Beta4 * PS4_1980['black']  + Beta5 * PS4_1980['hispanic'] + Beta6 * PS4_1980['other']\n",
    "    \n",
    "    #The Fuction\n",
    "    LL = -np.sum( stats.norm.logpdf(PS4_1980['ln_wages'], loc=Outcome, scale=SD))\n",
    "    \n",
    "    return(LL)\n",
    "\n",
    "#My guesses for the parameters \n",
    "guesses = [0.31, 0.06, 0.06, 0, 0.23, 0, 0.094, 1]\n",
    "\n",
    "#I employ both the SLSQP, LBFGSB, and the Nelder Mead method, but I find that the Nelder Mead method gives results much closer to the OLS estimates\n",
    "results80s = opt.minimize(MLElinear, guesses, method='Nelder-Mead')\n",
    "\n",
    "print(results80s)"
   ]
  },
  {
   "cell_type": "code",
   "execution_count": 190,
   "id": "89ef950f",
   "metadata": {},
   "outputs": [
    {
     "name": "stdout",
     "output_type": "stream",
     "text": [
      "Intercept    0.756720\n",
      "hyrsed       0.067038\n",
      "age          0.036328\n",
      "agesq       -0.000285\n",
      "black        0.409655\n",
      "hispanic     0.000000\n",
      "other        0.347065\n",
      "dtype: float64\n"
     ]
    }
   ],
   "source": [
    "#Quick OLS Sanity Check\n",
    "\n",
    "import pandas as pd\n",
    "import statsmodels.formula.api as sm\n",
    "result80sOLS = sm.ols(formula=\"ln_wages ~ hyrsed + age + agesq + black + hispanic + other\", data=PS4_1980).fit()\n",
    "print(result80sOLS.params)\n",
    " "
   ]
  },
  {
   "cell_type": "code",
   "execution_count": 191,
   "id": "72bdff1d",
   "metadata": {},
   "outputs": [],
   "source": [
    "#"
   ]
  },
  {
   "cell_type": "code",
   "execution_count": 192,
   "id": "15136f2f",
   "metadata": {},
   "outputs": [],
   "source": [
    "#1990s\n"
   ]
  },
  {
   "cell_type": "code",
   "execution_count": 290,
   "id": "a9da3eb1",
   "metadata": {},
   "outputs": [
    {
     "name": "stdout",
     "output_type": "stream",
     "text": [
      " final_simplex: (array([[ 2.62749835e-01,  9.80586465e-02,  4.27181531e-02,\n",
      "        -3.47126362e-04,  1.38192132e-01,  1.66404023e-03,\n",
      "         1.27187169e-01,  4.79877970e-01],\n",
      "       [ 2.62755724e-01,  9.80657743e-02,  4.27130570e-02,\n",
      "        -3.47072331e-04,  1.38205262e-01,  1.66309659e-03,\n",
      "         1.27184210e-01,  4.79894780e-01],\n",
      "       [ 2.62743599e-01,  9.80656312e-02,  4.27139574e-02,\n",
      "        -3.47085104e-04,  1.38178974e-01,  1.66361937e-03,\n",
      "         1.27192249e-01,  4.79895389e-01],\n",
      "       [ 2.62758354e-01,  9.80554126e-02,  4.27194109e-02,\n",
      "        -3.47141222e-04,  1.38207886e-01,  1.66393668e-03,\n",
      "         1.27182536e-01,  4.79884136e-01],\n",
      "       [ 2.62760679e-01,  9.80565507e-02,  4.27165556e-02,\n",
      "        -3.47085436e-04,  1.38217591e-01,  1.66356105e-03,\n",
      "         1.27181373e-01,  4.79894732e-01],\n",
      "       [ 2.62766507e-01,  9.80569380e-02,  4.27185162e-02,\n",
      "        -3.47139231e-04,  1.38225161e-01,  1.66349619e-03,\n",
      "         1.27176839e-01,  4.79885217e-01],\n",
      "       [ 2.62788281e-01,  9.80678263e-02,  4.27078932e-02,\n",
      "        -3.47009824e-04,  1.38281374e-01,  1.66145498e-03,\n",
      "         1.27162384e-01,  4.79891598e-01],\n",
      "       [ 2.62738472e-01,  9.80630622e-02,  4.27164567e-02,\n",
      "        -3.47103532e-04,  1.38168202e-01,  1.66409006e-03,\n",
      "         1.27194602e-01,  4.79894168e-01],\n",
      "       [ 2.62778564e-01,  9.80592441e-02,  4.27160314e-02,\n",
      "        -3.47122806e-04,  1.38250277e-01,  1.66274452e-03,\n",
      "         1.27169695e-01,  4.79895631e-01]]), array([1337.37769636, 1337.37770443, 1337.37771658, 1337.37771688,\n",
      "       1337.37771788, 1337.37772476, 1337.37773207, 1337.37773526,\n",
      "       1337.37774801]))\n",
      "           fun: 1337.3776963640357\n",
      "       message: 'Optimization terminated successfully.'\n",
      "          nfev: 753\n",
      "           nit: 491\n",
      "        status: 0\n",
      "       success: True\n",
      "             x: array([ 2.62749835e-01,  9.80586465e-02,  4.27181531e-02, -3.47126362e-04,\n",
      "        1.38192132e-01,  1.66404023e-03,  1.27187169e-01,  4.79877970e-01])\n"
     ]
    }
   ],
   "source": [
    "def MLElinear(params):\n",
    "    Alpha = params[0]\n",
    "    Beta1 = params[1]\n",
    "    Beta2 = params[2]\n",
    "    Beta3 = params[3]\n",
    "    Beta4 = params[4]\n",
    "    Beta5 = params[5]\n",
    "    Beta6 = params[6]\n",
    "    SD = params[7]\n",
    "    \n",
    "    #The Formula \n",
    "    Outcome = Alpha + Beta1 * PS4_1990['hyrsed'] + Beta2 * PS4_1990['age'] + Beta3 * PS4_1990['agesq'] + Beta4 * PS4_1990['black']  + Beta5 * PS4_1990['hispanic'] + Beta6 * PS4_1990['other']\n",
    "    \n",
    "    #The Fuction\n",
    "    LL = -np.sum( stats.norm.logpdf(PS4_1990['ln_wages'], loc=Outcome, scale=SD))\n",
    "    \n",
    "    return(LL)\n",
    "\n",
    "#My guesses for the parameters \n",
    "guesses = [0.31, 0.06, 0.06, 0, 0.23, 0, 0.094, 1]\n",
    "\n",
    "#I employ both the SLSQP, LBFGSB, and the Nelder Mead method, but I find that the Nelder Mead method gives results much closer to the OLS estimates\n",
    "results90s = opt.minimize(MLElinear, guesses, method='Nelder-Mead')\n",
    "\n",
    "print(results90s)"
   ]
  },
  {
   "cell_type": "code",
   "execution_count": 196,
   "id": "c73f6a37",
   "metadata": {},
   "outputs": [
    {
     "name": "stdout",
     "output_type": "stream",
     "text": [
      "Intercept    0.245714\n",
      "hyrsed       0.098398\n",
      "age          0.046937\n",
      "agesq       -0.000397\n",
      "black        0.193006\n",
      "hispanic     0.000000\n",
      "other        0.052708\n",
      "dtype: float64\n"
     ]
    }
   ],
   "source": [
    "#Quick OLS Sanity Check\n",
    "\n",
    "import pandas as pd\n",
    "import statsmodels.formula.api as sm\n",
    "result90sOLS = sm.ols(formula=\"ln_wages ~ hyrsed + age + agesq + black + hispanic + other\", data=PS4_1990).fit()\n",
    "print(result90sOLS.params)"
   ]
  },
  {
   "cell_type": "code",
   "execution_count": 292,
   "id": "955b7bfc",
   "metadata": {},
   "outputs": [],
   "source": [
    "#2000s\n",
    "\n",
    "PS4_2000 = PS4_2000[(PS4_2000[\"ln_wages\"] < 1000)]\n",
    "\n",
    "#For some reason there was a infinite value for the year 2000, so I had to get rid of it"
   ]
  },
  {
   "cell_type": "code",
   "execution_count": 272,
   "id": "fbc5d8c0",
   "metadata": {},
   "outputs": [],
   "source": [
    "#2000s\n"
   ]
  },
  {
   "cell_type": "code",
   "execution_count": 293,
   "id": "045afee6",
   "metadata": {},
   "outputs": [
    {
     "name": "stdout",
     "output_type": "stream",
     "text": [
      " final_simplex: (array([[ 5.47190627e-01,  1.11965811e-01,  9.00201804e-02,\n",
      "        -9.52194204e-04,  1.84105112e-01,  1.94553417e-02,\n",
      "        -1.16618762e+00,  5.36247420e-01],\n",
      "       [ 5.47162992e-01,  1.11965643e-01,  9.00206546e-02,\n",
      "        -9.52195555e-04,  1.84100228e-01,  1.94547244e-02,\n",
      "        -1.16617053e+00,  5.36246595e-01],\n",
      "       [ 5.47166896e-01,  1.11966458e-01,  9.00210792e-02,\n",
      "        -9.52207226e-04,  1.84107231e-01,  1.94546904e-02,\n",
      "        -1.16618866e+00,  5.36247483e-01],\n",
      "       [ 5.47257996e-01,  1.11967664e-01,  9.00160032e-02,\n",
      "        -9.52142684e-04,  1.84104505e-01,  1.94571371e-02,\n",
      "        -1.16619907e+00,  5.36248390e-01],\n",
      "       [ 5.47224957e-01,  1.11964923e-01,  9.00188800e-02,\n",
      "        -9.52174467e-04,  1.84102427e-01,  1.94562773e-02,\n",
      "        -1.16618711e+00,  5.36247826e-01],\n",
      "       [ 5.47191377e-01,  1.11965277e-01,  9.00200898e-02,\n",
      "        -9.52190556e-04,  1.84102747e-01,  1.94554054e-02,\n",
      "        -1.16618174e+00,  5.36248061e-01],\n",
      "       [ 5.47176092e-01,  1.11965485e-01,  9.00207430e-02,\n",
      "        -9.52200207e-04,  1.84102559e-01,  1.94549943e-02,\n",
      "        -1.16617811e+00,  5.36248284e-01],\n",
      "       [ 5.47192353e-01,  1.11964757e-01,  9.00205818e-02,\n",
      "        -9.52197462e-04,  1.84104659e-01,  1.94553974e-02,\n",
      "        -1.16618658e+00,  5.36248359e-01],\n",
      "       [ 5.47127312e-01,  1.11965289e-01,  9.00229429e-02,\n",
      "        -9.52221669e-04,  1.84107590e-01,  1.94537099e-02,\n",
      "        -1.16618352e+00,  5.36247482e-01]]), array([1979.9234062 , 1979.9234121 , 1979.92343869, 1979.92345354,\n",
      "       1979.92345511, 1979.92345577, 1979.92346102, 1979.92346732,\n",
      "       1979.92348425]))\n",
      "           fun: 1979.9234062005833\n",
      "       message: 'Optimization terminated successfully.'\n",
      "          nfev: 947\n",
      "           nit: 612\n",
      "        status: 0\n",
      "       success: True\n",
      "             x: array([ 5.47190627e-01,  1.11965811e-01,  9.00201804e-02, -9.52194204e-04,\n",
      "        1.84105112e-01,  1.94553417e-02, -1.16618762e+00,  5.36247420e-01])\n"
     ]
    }
   ],
   "source": [
    "\n",
    "\n",
    "def MLElinear(params):\n",
    "    Alpha = params[0]\n",
    "    Beta1 = params[1]\n",
    "    Beta2 = params[2]\n",
    "    Beta3 = params[3]\n",
    "    Beta4 = params[4]\n",
    "    Beta5 = params[5]\n",
    "    Beta6 = params[6]\n",
    "    SD = params[7]\n",
    "    \n",
    "    #The Formula \n",
    "    Outcome = Alpha + Beta1 * PS4_2000['hyrsed'] + Beta2 * PS4_2000['age'] + Beta3 * PS4_2000['agesq'] + Beta4 * PS4_2000['black']  + Beta5 * PS4_2000['hispanic'] + Beta6 * PS4_2000['other']\n",
    "    \n",
    "    #The Fuction\n",
    "    LL = -np.sum( stats.norm.logpdf(PS4_2000['ln_wages'], loc=Outcome, scale=SD))\n",
    "    \n",
    "    return(LL)\n",
    "\n",
    "#My guesses for the parameters \n",
    "guesses = [-0.351, 0.11, 0.09, -0.0009, -0.0833, 0, -0.267, 1]\n",
    "\n",
    "#I employ both the SLSQP, LBFGSB, and the Nelder Mead method, but I find that the Nelder Mead method gives results much closer to the OLS estimates\n",
    "results00s = opt.minimize(MLElinear, guesses, method='Nelder-Mead')\n",
    "\n",
    "print(results00s)"
   ]
  },
  {
   "cell_type": "code",
   "execution_count": 277,
   "id": "5c205374",
   "metadata": {},
   "outputs": [
    {
     "name": "stdout",
     "output_type": "stream",
     "text": [
      "Intercept   -0.351091\n",
      "hyrsed       0.111955\n",
      "age          0.090008\n",
      "agesq       -0.000952\n",
      "black       -0.083393\n",
      "hispanic     0.000000\n",
      "other       -0.267698\n",
      "dtype: float64\n"
     ]
    }
   ],
   "source": [
    "#Quick OLS Sanity Check\n",
    "\n",
    "import pandas as pd\n",
    "import statsmodels.formula.api as sm\n",
    "result00sOLS = sm.ols(formula=\"ln_wages ~ hyrsed + age + agesq + black + hispanic + other\", data=PS4_2000).fit()\n",
    "print(result00sOLS.params)\n",
    "\n",
    "#Pretty close"
   ]
  },
  {
   "cell_type": "code",
   "execution_count": 280,
   "id": "3b00f823",
   "metadata": {},
   "outputs": [],
   "source": [
    "#"
   ]
  },
  {
   "cell_type": "code",
   "execution_count": 281,
   "id": "8fdb7f5f",
   "metadata": {},
   "outputs": [],
   "source": [
    "#\n"
   ]
  },
  {
   "cell_type": "markdown",
   "id": "61ebf1a4",
   "metadata": {},
   "source": [
    "# Question 4"
   ]
  },
  {
   "cell_type": "markdown",
   "id": "c6e98a6f",
   "metadata": {},
   "source": [
    "#### I find in 1971 the estimate is 0.067, in 1980 the estimate is about 0.067, in 1990 the estimate is about 0.098, and in 2000 the estimate is about 0.11. This suggests that in 1971, a one year increase in education is associated with about a 6.7% increase in wages, while in 2000 a one year increase in education corresponds to a 11% increase in wages. Overall, this suggests the role of education in determining wages is increasing over time, which has possible implications for rising inequality in the United States."
   ]
  },
  {
   "cell_type": "code",
   "execution_count": null,
   "id": "a29c4bfd",
   "metadata": {},
   "outputs": [],
   "source": []
  }
 ],
 "metadata": {
  "kernelspec": {
   "display_name": "Python 3",
   "language": "python",
   "name": "python3"
  },
  "language_info": {
   "codemirror_mode": {
    "name": "ipython",
    "version": 3
   },
   "file_extension": ".py",
   "mimetype": "text/x-python",
   "name": "python",
   "nbconvert_exporter": "python",
   "pygments_lexer": "ipython3",
   "version": "3.8.8"
  }
 },
 "nbformat": 4,
 "nbformat_minor": 5
}
